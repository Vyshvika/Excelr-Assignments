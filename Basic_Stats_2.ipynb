{
  "nbformat": 4,
  "nbformat_minor": 0,
  "metadata": {
    "colab": {
      "provenance": []
    },
    "kernelspec": {
      "name": "python3",
      "display_name": "Python 3"
    },
    "language_info": {
      "name": "python"
    }
  },
  "cells": [
    {
      "cell_type": "code",
      "execution_count": 2,
      "metadata": {
        "colab": {
          "base_uri": "https://localhost:8080/"
        },
        "id": "EeiC25vZUHDM",
        "outputId": "63228293-3dc3-4d23-e0d0-26762b07dc5b"
      },
      "outputs": [
        {
          "output_type": "stream",
          "name": "stdout",
          "text": [
            "Sample mean is 1.2386666666666666 & Sample Standard deviation is 0.19316412956959936\n",
            "A.Building 99% Confidence Interval Using Sample Standard Deviation (1.0901973384384906, 1.3871359948948425)\n",
            "B.Building 99% Confidence Interval Using Population Standard Deviation (1.1056514133957607, 1.3716819199375725)\n"
          ]
        }
      ],
      "source": [
        "import numpy as np\n",
        "from scipy.stats import t, norm\n",
        "\n",
        "# Data provided\n",
        "data = [1.13, 1.55, 1.43, 0.92, 1.25, 1.36, 1.32, 0.85, 1.07, 1.48, 1.20, 1.33, 1.18, 1.22, 1.29]\n",
        "n = len(data)\n",
        "alpha = 0.01  # For 99% confidence interval\n",
        "\n",
        "# Calculations for Task A\n",
        "sample_mean = np.mean(data)\n",
        "sample_std = np.std(data, ddof=1)  # Sample standard deviation\n",
        "se_sample = sample_std / np.sqrt(n)\n",
        "\n",
        "# t-critical value for 99% CI and df = n-1\n",
        "t_critical = t.ppf(1 - alpha / 2, df=n - 1)\n",
        "\n",
        "# Confidence interval using sample standard deviation\n",
        "ci_t_lower = sample_mean - t_critical * se_sample\n",
        "ci_t_upper = sample_mean + t_critical * se_sample\n",
        "\n",
        "# Calculations for Task B\n",
        "population_std = 0.2  # Given\n",
        "se_population = population_std / np.sqrt(n)\n",
        "\n",
        "# z-critical value for 99% CI\n",
        "z_critical = norm.ppf(1 - alpha / 2)\n",
        "\n",
        "# Confidence interval using population standard deviation\n",
        "ci_z_lower = sample_mean - z_critical * se_population\n",
        "ci_z_upper = sample_mean + z_critical * se_population\n",
        "\n",
        "print(f'Sample mean is {sample_mean} & Sample Standard deviation is {sample_std}')\n",
        "print(f'A.Building 99% Confidence Interval Using Sample Standard Deviation {(ci_t_lower, ci_t_upper)}')\n",
        "print(f'B.Building 99% Confidence Interval Using Population Standard Deviation {(ci_z_lower, ci_z_upper)}')\n",
        "\n"
      ]
    }
  ]
}