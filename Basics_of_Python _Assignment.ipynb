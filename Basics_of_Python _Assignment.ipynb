{
  "cells": [
    {
      "cell_type": "code",
      "execution_count": 7,
      "metadata": {
        "colab": {
          "base_uri": "https://localhost:8080/"
        },
        "id": "LaOVFC56rDlZ",
        "outputId": "4fefcbda-f3b0-4b77-b8ea-f0fa51d3295a"
      },
      "outputs": [
        {
          "name": "stdout",
          "output_type": "stream",
          "text": [
            "Enter the desired number:2\n",
            "The number entered is a prime number\n"
          ]
        }
      ],
      "source": [
        "\n",
        "num = int (input (\"Enter the desired number:\"))\n",
        "\n",
        "flag = False\n",
        "\n",
        "if num > 1:\n",
        "\n",
        "              for i in range (2, num):\n",
        "\n",
        "                             if (num % i) == 0:\n",
        "\n",
        "                                            flag = True\n",
        "\n",
        "                                            break\n",
        "\n",
        "if flag:\n",
        "\n",
        "              print (\"The number entered is not a prime number\")\n",
        "\n",
        "else:\n",
        "\n",
        "              print (\"The number entered is a prime number\")"
      ]
    },
    {
      "cell_type": "code",
      "execution_count": 9,
      "metadata": {
        "colab": {
          "base_uri": "https://localhost:8080/"
        },
        "id": "lW5CYUkKrjge",
        "outputId": "d5b513e8-1369-4969-c164-34a21c77f7a9"
      },
      "outputs": [
        {
          "name": "stdout",
          "output_type": "stream",
          "text": [
            "What is 1 * 4? 8\n",
            "Incorrect. The correct answer is 4.\n"
          ]
        }
      ],
      "source": [
        "import random\n",
        "num1 = random.randint(1, 10)\n",
        "num2 = random.randint(1, 10)\n",
        "user_answer = int(input(f\"What is {num1} * {num2}? \"))\n",
        "if user_answer == num1 * num2:\n",
        "    print(\"Correct!\")\n",
        "else:\n",
        "    print(f\"Incorrect. The correct answer is {num1 * num2}.\")\n"
      ]
    },
    {
      "cell_type": "code",
      "execution_count": 10,
      "metadata": {
        "colab": {
          "base_uri": "https://localhost:8080/"
        },
        "id": "YRzbOiIAvzKS",
        "outputId": "888906ba-3465-438e-e15b-1e7a16aee9d2"
      },
      "outputs": [
        {
          "name": "stdout",
          "output_type": "stream",
          "text": [
            "The square of 100 is 10000\n",
            "The square of 102 is 10404\n",
            "The square of 104 is 10816\n",
            "The square of 106 is 11236\n",
            "The square of 108 is 11664\n",
            "The square of 110 is 12100\n",
            "The square of 112 is 12544\n",
            "The square of 114 is 12996\n",
            "The square of 116 is 13456\n",
            "The square of 118 is 13924\n",
            "The square of 120 is 14400\n",
            "The square of 122 is 14884\n",
            "The square of 124 is 15376\n",
            "The square of 126 is 15876\n",
            "The square of 128 is 16384\n",
            "The square of 130 is 16900\n",
            "The square of 132 is 17424\n",
            "The square of 134 is 17956\n",
            "The square of 136 is 18496\n",
            "The square of 138 is 19044\n",
            "The square of 140 is 19600\n",
            "The square of 142 is 20164\n",
            "The square of 144 is 20736\n",
            "The square of 146 is 21316\n",
            "The square of 148 is 21904\n",
            "The square of 150 is 22500\n",
            "The square of 152 is 23104\n",
            "The square of 154 is 23716\n",
            "The square of 156 is 24336\n",
            "The square of 158 is 24964\n",
            "The square of 160 is 25600\n",
            "The square of 162 is 26244\n",
            "The square of 164 is 26896\n",
            "The square of 166 is 27556\n",
            "The square of 168 is 28224\n",
            "The square of 170 is 28900\n",
            "The square of 172 is 29584\n",
            "The square of 174 is 30276\n",
            "The square of 176 is 30976\n",
            "The square of 178 is 31684\n",
            "The square of 180 is 32400\n",
            "The square of 182 is 33124\n",
            "The square of 184 is 33856\n",
            "The square of 186 is 34596\n",
            "The square of 188 is 35344\n",
            "The square of 190 is 36100\n",
            "The square of 192 is 36864\n",
            "The square of 194 is 37636\n",
            "The square of 196 is 38416\n",
            "The square of 198 is 39204\n",
            "The square of 200 is 40000\n"
          ]
        }
      ],
      "source": [
        "start = 100\n",
        "end = 200\n",
        "for num in range(start, end + 1):\n",
        "    if num % 2 == 0:\n",
        "        square = num ** 2\n",
        "        print(f\"The square of {num} is {square}\")\n"
      ]
    },
    {
      "cell_type": "code",
      "execution_count": 12,
      "metadata": {
        "colab": {
          "base_uri": "https://localhost:8080/"
        },
        "id": "DPYIrZrAweMD",
        "outputId": "f604c84c-c51d-455f-e372-616f4ca608aa"
      },
      "outputs": [
        {
          "name": "stdout",
          "output_type": "stream",
          "text": [
            "'this': 2\n",
            "'is': 1\n",
            "'a': 1\n",
            "'python': 1\n",
            "'code': 2\n",
            "'will': 1\n",
            "'be': 1\n",
            "'used': 1\n",
            "'to': 1\n",
            "'display': 1\n",
            "'the': 1\n",
            "'word': 1\n",
            "'count': 1\n"
          ]
        }
      ],
      "source": [
        "def count_words(input_text):\n",
        "    words = input_text.split()\n",
        "    word_count = {}\n",
        "\n",
        "    for word in words:\n",
        "        word = word.strip(\".,!?:;\\\"'\").lower()\n",
        "        if word:\n",
        "            word_count[word] = word_count.get(word, 0) + 1\n",
        "\n",
        "    for word, count in word_count.items():\n",
        "        print(f\"'{word}': {count}\")\n",
        "input_text = \"This is a python code. This code will be used to display the word count.\"\n",
        "count_words(input_text)\n"
      ]
    },
    {
      "cell_type": "code",
      "execution_count": 13,
      "metadata": {
        "colab": {
          "base_uri": "https://localhost:8080/"
        },
        "id": "rTWkQZIMw-Xr",
        "outputId": "da151d26-7d16-4ca2-a568-ed57126162c0"
      },
      "outputs": [
        {
          "name": "stdout",
          "output_type": "stream",
          "text": [
            "True\n"
          ]
        }
      ],
      "source": [
        "import string\n",
        "\n",
        "def is_palindrome(input_string):\n",
        "    cleaned_string = ''.join(char.lower() for char in input_string if char.isalnum())\n",
        "    return cleaned_string == cleaned_string[::-1]\n",
        "input_text = \"racecar\"\n",
        "print(is_palindrome(input_text))\n"
      ]
    }
  ],
  "metadata": {
    "colab": {
      "provenance": []
    },
    "kernelspec": {
      "display_name": "Python 3",
      "name": "python3"
    },
    "language_info": {
      "name": "python"
    }
  },
  "nbformat": 4,
  "nbformat_minor": 0
}
